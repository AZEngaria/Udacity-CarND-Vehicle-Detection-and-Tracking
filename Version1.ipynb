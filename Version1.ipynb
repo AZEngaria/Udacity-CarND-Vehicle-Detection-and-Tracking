{
 "cells": [
  {
   "cell_type": "code",
   "execution_count": null,
   "metadata": {},
   "outputs": [],
   "source": [
    "# Step 1 is to read images"
   ]
  },
  {
   "cell_type": "code",
   "execution_count": 11,
   "metadata": {},
   "outputs": [
    {
     "name": "stdout",
     "output_type": "stream",
     "text": [
      "Reading of Vehicle Images Done\n",
      "Reading of Non Vehicle Images Done\n"
     ]
    }
   ],
   "source": [
    "import glob\n",
    "import cv2 as cv2\n",
    "import numpy as np\n",
    "\n",
    "vehicle_image_arr=[]\n",
    "vehicle_images_GTI_Far = glob.glob('./vehicles/vehicles/GTI_Far/*.png')\n",
    "vehicle_images_GTI_Left = glob.glob('./vehicles/vehicles/GTI_Left/*.png')\n",
    "vehicle_images_GTI_MiddleClose = glob.glob('./vehicles/vehicles/MiddleClose/*.png')\n",
    "vehicle_images_GTI_Right = glob.glob('./vehicles/vehicles/GTI_Right/*.png')\n",
    "vehicle_images_KITTI_extracted = glob.glob('./vehicles/vehicles/KITTI_extracted/*.png')\n",
    "vehicle_image_arr = np.concatenate([vehicle_images_GTI_Far, vehicle_images_GTI_Left, vehicle_images_GTI_MiddleClose, vehicle_images_GTI_Right, vehicle_images_KITTI_extracted])\n",
    "\n",
    "vehicle_images_original=[]\n",
    "for imagePath in vehicle_image_arr:\n",
    "    readImage=cv2.imread(imagePath)\n",
    "    rgbImage = cv2.cvtColor(readImage, cv2.COLOR_BGR2RGB)\n",
    "    vehicle_images_original.append(rgbImage)\n",
    "\n",
    "print('Reading of Vehicle Images Done')\n",
    "\n",
    "non_vehicle_image_arr=[]\n",
    "non_vehicle_images_Extras = glob.glob('./non-vehicles/non-vehicles/Extras//*.png')\n",
    "non_vehicle_images_GTI = glob.glob('./non-vehicles/non-vehicles/GTI/*.png')\n",
    "non_vehicle_image_arr= np.concatenate([non_vehicle_images_Extras,non_vehicle_images_GTI])\n",
    "\n",
    "\n",
    "non_vehicle_images_original=[]\n",
    "for imagePath in non_vehicle_image_arr:\n",
    "    readImage=cv2.imread(imagePath)\n",
    "    rgbImage = cv2.cvtColor(readImage, cv2.COLOR_BGR2RGB)\n",
    "    non_vehicle_images_original.append(rgbImage)\n",
    "\n",
    "print(\"Reading of Non Vehicle Images Done\")\n"
   ]
  },
  {
   "cell_type": "code",
   "execution_count": null,
   "metadata": {},
   "outputs": [],
   "source": []
  }
 ],
 "metadata": {
  "kernelspec": {
   "display_name": "Python 3",
   "language": "python",
   "name": "python3"
  },
  "language_info": {
   "codemirror_mode": {
    "name": "ipython",
    "version": 3
   },
   "file_extension": ".py",
   "mimetype": "text/x-python",
   "name": "python",
   "nbconvert_exporter": "python",
   "pygments_lexer": "ipython3",
   "version": "3.5.2"
  },
  "widgets": {
   "state": {},
   "version": "1.1.2"
  }
 },
 "nbformat": 4,
 "nbformat_minor": 2
}
